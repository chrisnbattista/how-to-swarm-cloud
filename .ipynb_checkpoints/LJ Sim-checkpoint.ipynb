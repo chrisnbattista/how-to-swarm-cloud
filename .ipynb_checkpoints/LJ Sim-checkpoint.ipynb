{
 "cells": [
  {
   "cell_type": "code",
   "execution_count": null,
   "metadata": {},
   "outputs": [],
   "source": [
    "!pip install -r requirements.txt"
   ]
  },
  {
   "cell_type": "code",
   "execution_count": null,
   "metadata": {},
   "outputs": [],
   "source": [
    "import lj_test\n",
    "import seaborn as sns\n",
    "import matplotlib.pyplot as plt"
   ]
  },
  {
   "cell_type": "code",
   "execution_count": null,
   "metadata": {
    "scrolled": false
   },
   "outputs": [],
   "source": [
    "fig = None\n",
    "ax = None\n",
    "try:\n",
    "    get_ipython().magic(\"matplotlib notebook\")\n",
    "    sns.set_theme()\n",
    "    ##fig, ax = plt.subplots(1, 1)\n",
    "    fig = plt.figure(figsize=(16,16))\n",
    "    plt.ion()\n",
    "except Exception as e:\n",
    "    lj_test.setup_plots()\n",
    "    print(\"oops\")\n",
    "    print(e)"
   ]
  },
  {
   "cell_type": "code",
   "execution_count": null,
   "metadata": {},
   "outputs": [],
   "source": [
    "def lj_notebook_data_viz_w_fig(world, long_world_history, i, fig, ax):\n",
    "    if i % 100 == 0:\n",
    "        fig.clf()\n",
    "        p = sns.scatterplot(\n",
    "            x='b_1',\n",
    "            y='b_2',\n",
    "            s=500,\n",
    "            hue='t',\n",
    "            data=long_world_history\n",
    "        )\n",
    "        p.legend_.remove()\n",
    "        p2 = sns.scatterplot(\n",
    "            x='b_1',\n",
    "            y='b_2',\n",
    "            s=1000,\n",
    "            color='k',\n",
    "            data=world\n",
    "        )\n",
    "        p2.legend_.remove()\n",
    "        fig.suptitle(f\"LJ Sim Timestep {i}\")\n",
    "        fig.canvas.draw()\n",
    "        plt.show()\n",
    "        plt.pause(0.00001)\n",
    "\n",
    "lj_notebook_data_viz = lambda world, long_world_history, i: lj_notebook_data_viz_w_fig(world, long_world_history, i, fig, ax)\n"
   ]
  },
  {
   "cell_type": "code",
   "execution_count": null,
   "metadata": {
    "scrolled": true
   },
   "outputs": [],
   "source": [
    "lj_test.run_sim(data_viz=lj_notebook_data_viz)"
   ]
  },
  {
   "cell_type": "code",
   "execution_count": null,
   "metadata": {},
   "outputs": [],
   "source": []
  }
 ],
 "metadata": {
  "kernelspec": {
   "display_name": "env",
   "language": "python",
   "name": "env"
  },
  "language_info": {
   "codemirror_mode": {
    "name": "ipython",
    "version": 3
   },
   "file_extension": ".py",
   "mimetype": "text/x-python",
   "name": "python",
   "nbconvert_exporter": "python",
   "pygments_lexer": "ipython3",
   "version": "3.7.6"
  }
 },
 "nbformat": 4,
 "nbformat_minor": 4
}
